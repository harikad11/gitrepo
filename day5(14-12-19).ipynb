{
 "cells": [
  {
   "cell_type": "code",
   "execution_count": 5,
   "metadata": {},
   "outputs": [
    {
     "name": "stdout",
     "output_type": "stream",
     "text": [
      "True\n",
      "False\n"
     ]
    },
    {
     "data": {
      "text/plain": [
       "False"
      ]
     },
     "execution_count": 5,
     "metadata": {},
     "output_type": "execute_result"
    }
   ],
   "source": [
    "#membership operators--->in,not in\n",
    "str='abc xyz'\n",
    "'x' not in str\n",
    "print('a' in str)\n",
    "print('a' not in str)\n",
    "'a' not in str"
   ]
  },
  {
   "cell_type": "code",
   "execution_count": 6,
   "metadata": {},
   "outputs": [
    {
     "data": {
      "text/plain": [
       "False"
      ]
     },
     "execution_count": 6,
     "metadata": {},
     "output_type": "execute_result"
    }
   ],
   "source": [
    "#Identity operators--->is,is not\n",
    "x = 10\n",
    "y = 20\n",
    "x is y"
   ]
  },
  {
   "cell_type": "code",
   "execution_count": 7,
   "metadata": {},
   "outputs": [
    {
     "name": "stdout",
     "output_type": "stream",
     "text": [
      "140724988523632 140724988523952\n"
     ]
    }
   ],
   "source": [
    "print(id(x),id(y))"
   ]
  },
  {
   "cell_type": "code",
   "execution_count": 8,
   "metadata": {},
   "outputs": [
    {
     "name": "stdout",
     "output_type": "stream",
     "text": [
      "x<y\n"
     ]
    }
   ],
   "source": [
    "x = 10\n",
    "y = 20\n",
    "print(\"x<y\") if x<y else print(\"x>y\")"
   ]
  },
  {
   "cell_type": "code",
   "execution_count": 9,
   "metadata": {},
   "outputs": [
    {
     "name": "stdout",
     "output_type": "stream",
     "text": [
      "x<y\n",
      "Hello\n"
     ]
    }
   ],
   "source": [
    "if x<y :\n",
    "    print(\"x<y\")\n",
    "    if 12<22:\n",
    "        print(\"Hello\")\n",
    "    else :\n",
    "        print(\"x>y\")"
   ]
  },
  {
   "cell_type": "code",
   "execution_count": 12,
   "metadata": {},
   "outputs": [
    {
     "name": "stdout",
     "output_type": "stream",
     "text": [
      "ENter a num0\n",
      "zero\n"
     ]
    }
   ],
   "source": [
    "#accept a num as an input and print whether a given number is positive or negative or zero\n",
    "a = int(input(\"ENter a num\"))\n",
    "if a>0 :\n",
    "    print(\"positive\")\n",
    "elif a<0 :\n",
    "    print(\"Negative\")\n",
    "else :\n",
    "    print(\"zero\")"
   ]
  },
  {
   "cell_type": "code",
   "execution_count": 21,
   "metadata": {},
   "outputs": [
    {
     "name": "stdout",
     "output_type": "stream",
     "text": [
      "Enter a num6\n",
      "YES\n"
     ]
    }
   ],
   "source": [
    "# accept a num which is divisible by 2,3 and not 4\n",
    "n = int(input(\"Enter a num\"))\n",
    "if (n%2==0 and n%3==0 and n%4!=0):\n",
    "    print(\"YES\")\n"
   ]
  },
  {
   "cell_type": "code",
   "execution_count": 13,
   "metadata": {},
   "outputs": [
    {
     "name": "stdout",
     "output_type": "stream",
     "text": [
      "Enter 1st sub marks 39\n",
      "Enter 2nd sub marks 36\n",
      "Enter 3rd sub marks 56\n",
      "D grade\n"
     ]
    }
   ],
   "source": [
    "a=int(input(\"Enter 1st sub marks \"))\n",
    "b=int(input(\"Enter 2nd sub marks \"))\n",
    "c=int(input(\"Enter 3rd sub marks \"))\n",
    "if(a>30 and b>30 and c>30):\n",
    "    avg = (a+b+c)/3\n",
    "    if avg>75 :\n",
    "        print(\"A grade\")\n",
    "    elif (avg>65 and avg<75):\n",
    "        print(\"B grade\")\n",
    "    elif (avg>50 and avg<65):\n",
    "        print(\"C grade\")\n",
    "    elif (avg>30 and avg<50):\n",
    "        print(\"D grade\")\n",
    "else :\n",
    "    print(\"Fail\")\n"
   ]
  },
  {
   "cell_type": "code",
   "execution_count": 14,
   "metadata": {},
   "outputs": [
    {
     "name": "stdout",
     "output_type": "stream",
     "text": [
      "4\n",
      "1 2 3 4 "
     ]
    }
   ],
   "source": [
    "#while loop\n",
    "i = 1\n",
    "n = int(input())\n",
    "while i<=n:\n",
    "    print(i,end = ' ')\n",
    "    i += 1"
   ]
  },
  {
   "cell_type": "code",
   "execution_count": 2,
   "metadata": {},
   "outputs": [
    {
     "name": "stdout",
     "output_type": "stream",
     "text": [
      "5\n",
      "15\n"
     ]
    }
   ],
   "source": [
    "#while loop\n",
    "i = 1\n",
    "sum = 0\n",
    "n = int(input())\n",
    "while i<=n:\n",
    "    #print(sum, end = ' ')\n",
    "    sum = sum+i\n",
    "    i =i+1\n",
    "print(sum)"
   ]
  },
  {
   "cell_type": "code",
   "execution_count": 4,
   "metadata": {},
   "outputs": [
    {
     "name": "stdout",
     "output_type": "stream",
     "text": [
      "10\n",
      "30\n"
     ]
    }
   ],
   "source": [
    "i = 1\n",
    "sum = 0\n",
    "n = int(input())\n",
    "while i<=n:\n",
    "    if i%2 == 0:\n",
    "        sum = sum+i\n",
    "    i =i+1\n",
    "print(sum)"
   ]
  },
  {
   "cell_type": "code",
   "execution_count": 1,
   "metadata": {},
   "outputs": [
    {
     "name": "stdout",
     "output_type": "stream",
     "text": [
      "123\n",
      "3 2 1 "
     ]
    }
   ],
   "source": [
    "\n",
    "n = int(input())\n",
    "while n!=0:\n",
    "    print(n%10,end = ' ')\n",
    "    n=n//10"
   ]
  },
  {
   "cell_type": "code",
   "execution_count": 3,
   "metadata": {},
   "outputs": [
    {
     "name": "stdout",
     "output_type": "stream",
     "text": [
      "123\n",
      "6\n"
     ]
    }
   ],
   "source": [
    "n = int(input())\n",
    "sum = 0\n",
    "while n!=0:\n",
    "    sum = sum + (n%10)\n",
    "    n=n//10\n",
    "print(sum)"
   ]
  },
  {
   "cell_type": "code",
   "execution_count": 12,
   "metadata": {},
   "outputs": [
    {
     "name": "stdout",
     "output_type": "stream",
     "text": [
      "0\n",
      "26\n"
     ]
    }
   ],
   "source": [
    "str = \"application1889\"\n",
    "i=0\n",
    "sum=0\n",
    "#while i<len(str):\n",
    "#str = \"application1889\"\n",
    "   # if(str[i].isdigit()):\n",
    "    #    sum=sum+int(str[i])\n",
    "    #i=i+1\n",
    "print(sum)\n",
    "#if str[i].ord()>=48 and str[i].ord()<=57\n",
    "for i in str:\n",
    "    if i.isdigit():\n",
    "        sum +=int(i)\n",
    "print(sum)"
   ]
  },
  {
   "cell_type": "code",
   "execution_count": 15,
   "metadata": {},
   "outputs": [
    {
     "name": "stdout",
     "output_type": "stream",
     "text": [
      "Enter value5\n",
      "1\n",
      "2\n",
      "3\n",
      "4\n",
      "5\n"
     ]
    }
   ],
   "source": [
    "#Print n natural numbers using for loop\n",
    "i=0\n",
    "n= int(input(\"Enter value\"))\n",
    "for i in range(1,n+1) :\n",
    "    print(i)"
   ]
  },
  {
   "cell_type": "code",
   "execution_count": 19,
   "metadata": {},
   "outputs": [
    {
     "name": "stdout",
     "output_type": "stream",
     "text": [
      "Enter valueharikateju\n",
      "0\n",
      "0\n",
      "0\n"
     ]
    }
   ],
   "source": [
    "i=0\n",
    "str= (input(\"Enter value\"))\n",
    "for str in range(1,len(str),4) :\n",
    "    print(i)"
   ]
  },
  {
   "cell_type": "code",
   "execution_count": null,
   "metadata": {},
   "outputs": [],
   "source": []
  }
 ],
 "metadata": {
  "kernelspec": {
   "display_name": "Python 3",
   "language": "python",
   "name": "python3"
  },
  "language_info": {
   "codemirror_mode": {
    "name": "ipython",
    "version": 3
   },
   "file_extension": ".py",
   "mimetype": "text/x-python",
   "name": "python",
   "nbconvert_exporter": "python",
   "pygments_lexer": "ipython3",
   "version": "3.7.1"
  }
 },
 "nbformat": 4,
 "nbformat_minor": 2
}
